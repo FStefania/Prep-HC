{
 "cells": [
  {
   "cell_type": "code",
   "execution_count": 5,
   "metadata": {},
   "outputs": [],
   "source": [
    "def Factorial(numero):\n",
    "    '''\n",
    "    Esta función devuelve el factorial del número pasado como parámetro.\n",
    "    En caso de que no sea de tipo entero y/o sea menor que 1, debe retornar nulo.\n",
    "    Recibe un argumento:\n",
    "        numero: Será el número con el que se calcule el factorial\n",
    "    Ej:\n",
    "        Factorial(4) debe retornar 24\n",
    "        Factorial(-2) debe retornar nulo\n",
    "    '''\n",
    "    #Tu código aca:\n",
    "    n_factorial=1\n",
    "    if type(numero) != int:\n",
    "        return None\n",
    "    elif numero < 1:\n",
    "        return None\n",
    "    else:\n",
    "        while numero >1:\n",
    "            n_factorial*=numero\n",
    "            numero-=1\n",
    "        return n_factorial"
   ]
  },
  {
   "cell_type": "code",
   "execution_count": 7,
   "metadata": {},
   "outputs": [],
   "source": [
    "Factorial(-2)"
   ]
  },
  {
   "cell_type": "code",
   "execution_count": 24,
   "metadata": {},
   "outputs": [],
   "source": [
    "def EsPrimo(valor):\n",
    "    '''\n",
    "    Esta función devuelve el valor booleano True si el número reibido como parámetro es primo, de lo \n",
    "    contrario devuelve False..\n",
    "    En caso de que el parámetro no sea de tipo entero debe retornar nulo.\n",
    "    Recibe un argumento:\n",
    "        valor: Será el número a evaluar\n",
    "    Ej:\n",
    "        EsPrimo(7) debe retornar True\n",
    "        EsPrimo(8) debe retornar False\n",
    "    '''\n",
    "    #Tu código aca:\n",
    "    if type(valor) != int:\n",
    "        return None\n",
    "    primo = True\n",
    "    for i in range(2,valor):\n",
    "        resultado= valor%i\n",
    "        if resultado==0:\n",
    "            primo=False\n",
    "            break\n",
    "    return primo\n",
    "\n",
    "\n",
    "   "
   ]
  },
  {
   "cell_type": "code",
   "execution_count": 25,
   "metadata": {},
   "outputs": [
    {
     "data": {
      "text/plain": [
       "False"
      ]
     },
     "execution_count": 25,
     "metadata": {},
     "output_type": "execute_result"
    }
   ],
   "source": [
    "EsPrimo(27)"
   ]
  },
  {
   "cell_type": "code",
   "execution_count": 53,
   "metadata": {},
   "outputs": [],
   "source": [
    "def ClaseAnimal(especie, color):\n",
    "    '''\n",
    "    Esta función devuelve un objeto instanciado de la clase Animal, \n",
    "    la cual debe tener los siguientes atributos:\n",
    "        Edad    (Un valor de tipo de dato entero, que debe inicializarse en cero)\n",
    "        Especie (Un valor de tipo de dato string)\n",
    "        Color   (Un valor de tipo de dato string)\n",
    "    y debe tener el siguiente método:\n",
    "        CumplirAnios  (este método debe sumar uno al atributo Edad y debe devolver ese valor)\n",
    "    Recibe dos argumento:\n",
    "        especie: Dato que se asignará al atributo Especie del objeto de la clase Animal\n",
    "        color: Dato que se asignará al atributo Color del objeto de la clase Animal\n",
    "    Ej:\n",
    "        a = ClaseAnimal('perro','blanco')\n",
    "        a.CumpliAnios() -> debe devolver 1\n",
    "        a.CumpliAnios() -> debe devolver 2\n",
    "        a.CumpliAnios() -> debe devolver 3\n",
    "    '''\n",
    "    #Tu código aca:\n",
    "    class Animal:\n",
    "        def __init__(self, especie, color):\n",
    "            self.edad=0\n",
    "            self.especie=especie\n",
    "            self.color=color\n",
    "    \n",
    "        def CumplirAnios(self):\n",
    "            self.edad = self.edad + 1\n",
    "            return self.edad\n",
    "    \n",
    "    objeto = Animal(especie,color)\n",
    "    return objeto    \n",
    "    \n",
    "        "
   ]
  },
  {
   "cell_type": "code",
   "execution_count": 56,
   "metadata": {},
   "outputs": [
    {
     "data": {
      "text/plain": [
       "2"
      ]
     },
     "execution_count": 56,
     "metadata": {},
     "output_type": "execute_result"
    }
   ],
   "source": [
    "a = ClaseAnimal(\"perro\", \"blanco\")\n",
    "a.CumplirAnios()\n",
    "a.CumplirAnios()\n"
   ]
  }
 ],
 "metadata": {
  "kernelspec": {
   "display_name": "Python 3",
   "language": "python",
   "name": "python3"
  },
  "language_info": {
   "codemirror_mode": {
    "name": "ipython",
    "version": 3
   },
   "file_extension": ".py",
   "mimetype": "text/x-python",
   "name": "python",
   "nbconvert_exporter": "python",
   "pygments_lexer": "ipython3",
   "version": "3.10.3"
  },
  "orig_nbformat": 4
 },
 "nbformat": 4,
 "nbformat_minor": 2
}
